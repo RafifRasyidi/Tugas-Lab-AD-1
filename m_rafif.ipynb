{
 "cells": [
  {
   "cell_type": "code",
   "execution_count": 5,
   "metadata": {},
   "outputs": [],
   "source": [
    "class Fibonacci:\n",
    "    def hitung_fibonacci(this,bil):\n",
    "        this.bil = bil\n",
    "        this.fibonacci(0,1,this.bil)\n",
    "    def fibonacci(this,bilangan1,bilangan2,batas):\n",
    "        if(bilangan1 == 0):\n",
    "            print(bilangan1)\n",
    "            print(bilangan2)\n",
    "            print(bilangan2+bilangan1)\n",
    "            this.fibonacci(bilangan2,bilangan1+bilangan2,batas)\n",
    "        elif(bilangan1 + bilangan2 < batas):\n",
    "            print(bilangan1+bilangan2)\n",
    "            this.fibonacci(bilangan2,bilangan1+bilangan2,batas)\n",
    "        \n",
    "        "
   ]
  },
  {
   "cell_type": "code",
   "execution_count": 6,
   "metadata": {},
   "outputs": [
    {
     "name": "stdout",
     "output_type": "stream",
     "text": [
      "Masukkan batas fibonacci : 99\n",
      "0\n",
      "1\n",
      "1\n",
      "2\n",
      "3\n",
      "5\n",
      "8\n",
      "13\n",
      "21\n",
      "34\n",
      "55\n",
      "89\n"
     ]
    }
   ],
   "source": [
    "bil = int(input(\"Masukkan batas fibonacci : \"))\n",
    "contoh = Fibonacci()\n",
    "contoh.hitung_fibonacci(bil)"
   ]
  },
  {
   "cell_type": "code",
   "execution_count": null,
   "metadata": {},
   "outputs": [],
   "source": []
  }
 ],
 "metadata": {
  "kernelspec": {
   "display_name": "Python 3",
   "language": "python",
   "name": "python3"
  },
  "language_info": {
   "codemirror_mode": {
    "name": "ipython",
    "version": 3
   },
   "file_extension": ".py",
   "mimetype": "text/x-python",
   "name": "python",
   "nbconvert_exporter": "python",
   "pygments_lexer": "ipython3",
   "version": "3.7.4"
  }
 },
 "nbformat": 4,
 "nbformat_minor": 2
}
